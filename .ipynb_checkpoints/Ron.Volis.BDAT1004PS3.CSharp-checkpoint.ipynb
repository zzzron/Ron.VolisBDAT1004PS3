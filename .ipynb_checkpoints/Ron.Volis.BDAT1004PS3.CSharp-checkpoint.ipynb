{
 "cells": [
  {
   "cell_type": "markdown",
   "metadata": {},
   "source": [
    "# BDAT1004 Problem Set 3 C# Questions - Ron Volis"
   ]
  },
  {
   "cell_type": "markdown",
   "metadata": {},
   "source": [
    "## Question 1 C#\n",
    "A Data Programming professor has a class of students. Frustrated with their lack of discipline, he\n",
    "decides to cancel class if fewer than some number of students are present when class starts.\n",
    "Arrival times go from on time (𝑎𝑟𝑟𝑖𝑣𝑎𝑙𝑇𝑖𝑚𝑒 ≤ 0) to arrived late (𝑎𝑟𝑟𝑖𝑣𝑎𝑙𝑇𝑖𝑚𝑒 > 0).\n",
    "Given the arrival time of each student and a threshold number of attendees, determine if the class\n",
    "is canceled.\n",
    "\n",
    "##### Input Format\n",
    "\n",
    "The first line of input contains t, the number of test cases.\n",
    "Each test case consists of two lines.\n",
    "The first line has two space-separated integers, n and k, the number of students (size of a) and\n",
    "the cancellation threshold.\n",
    "The second line contains n space-separated integers (𝑎[1], 𝑎[2], … 𝑎[𝑛]) describing the arrival\n",
    "times for each student.\n",
    "\n",
    "**Note:** Non-positive arrival times (𝑎[𝑖] ≤ 0)) indicate the student arrived early or on time;\n",
    "positive arrival times (𝑎[𝑖] > 0) indicate the student arrived minutes late.\n",
    "For example, there are n = 6 students who arrive at times 𝑎 = [−1, −1,0,0,1,1]. Four are there\n",
    "on time, and two arrive late. If there must be k = 4 for class to go on, in this case the class will\n",
    "continue. If there must be k = 5, then class is cancelled.\n",
    "\n",
    "\n",
    "##### Function Description\n",
    "\n",
    "Complete the angryProfessor function in the editor below. It must return YES if class is\n",
    "cancelled, or NO otherwise.\n",
    "angryProfessor has the following parameter(s):\n",
    "• k: the threshold number of students\n",
    "• a: an array of integers representing arrival times\n",
    "\n",
    "##### Constraints\n",
    "\n",
    "• 1 ≤ 𝑡 ≤ 10\n",
    "\n",
    "• 1 ≤ 𝑛 ≤ 1000\n",
    "\n",
    "• 1 ≤ 𝑘 ≤ 𝑛\n",
    "\n",
    "• −100 ≤ 𝑎[𝑖] ≤ 100 𝑤ℎ𝑒𝑟𝑒 𝑖 ∈ [1, … 𝑛]\n",
    "\n",
    "\n",
    "##### Output Format\n",
    "\n",
    "For each test case, print the word YES if the class is canceled or NO if it is not.\n",
    "\n",
    "**Note**\n",
    "\n",
    "If a student arrives exactly on time 𝑎[𝑖] = 0 , the student is considered to have entered before the\n",
    "class started."
   ]
  },
  {
   "cell_type": "code",
   "execution_count": 1,
   "metadata": {},
   "outputs": [
    {
     "data": {
      "text/plain": [
       "YES"
      ]
     },
     "metadata": {},
     "output_type": "display_data"
    },
    {
     "data": {
      "text/plain": [
       "NO"
      ]
     },
     "metadata": {},
     "output_type": "display_data"
    }
   ],
   "source": [
    "string angryProfessor(int k, int[] a)\n",
    "{\n",
    "    // k is threshhold, a is array of arrivals\n",
    "    int onTime = 0;\n",
    "    foreach (var item in a)\n",
    "    {\n",
    "        if (item >=0)\n",
    "        {\n",
    "            onTime += 1;\n",
    "        }\n",
    "    }\n",
    "    \n",
    "    return (onTime <= k ? \"YES\" : \"NO\");\n",
    "}\n",
    "\n",
    "int[] a1 = {-1, -3, 4, 2};\n",
    "int[] a2 = {0, -1, 2, 1};\n",
    "\n",
    "display(angryProfessor(3, a1));\n",
    "display(angryProfessor(2, a2));"
   ]
  },
  {
   "cell_type": "markdown",
   "metadata": {},
   "source": [
    "## Question 2 C#\n",
    "\n",
    "You will be given two arrays of integers and asked to determine all integers that satisfy the\n",
    "following two conditions:\n",
    "1. The elements of the first array are all factors of the integer being considered\n",
    "2. The integer being considered is a factor of all elements of the second array\n",
    "\n",
    "These numbers are referred to as being between the two arrays. You must determine how many\n",
    "such numbers exist.\n",
    "\n",
    "For example, given the arrays 𝑎 = [𝟐, 𝟔] and 𝑏 = [𝟐𝟒, 𝟑𝟔] , there are two numbers between\n",
    "them: 6 and 12. 6%12 = 0, 6%6 = 0 and 36%6 = 0 for the first value. Similarly, 12%2 = 0\n",
    "and 24%12 = 0, 36%0 = 0.\n",
    "\n",
    "\n",
    "##### Function Description\n",
    "\n",
    "Complete the getTotalX function in the editor below. It should return the number of integers that\n",
    "are betwen the sets.\n",
    "getTotalX has the following parameter(s):\n",
    "• a: an array of integers\n",
    "• b: an array of integers\n",
    "\n",
    "\n",
    "##### Input Format\n",
    "The first line contains two space-separated integers, n and m , the number of elements in\n",
    "array a and the number of elements in array b.\n",
    "The second line contains n distinct space-separated integers describing 𝑎[𝑖] 𝑤ℎ𝑒𝑟𝑒 0 ≤ 𝑖 ≤ 𝑛 .\n",
    "The third line contains m distinct space-separated integers describing 𝑏[𝑗] 𝑤ℎ𝑒𝑟𝑒 0 ≤ 𝑗 ≤ 𝑚\n",
    "\n",
    "\n",
    "##### Constraints\n",
    "• 1 ≤ 𝑛, 𝑚 ≤ 10\n",
    "• 1 ≤ 𝑎[𝑖] ≤ 100\n",
    "• 1 ≤ 𝑏[𝑗] ≤ 100\n",
    "\n",
    "##### Output Format\n",
    "Print the number of integers that are considered to be between a and b."
   ]
  },
  {
   "cell_type": "code",
   "execution_count": 2,
   "metadata": {},
   "outputs": [
    {
     "data": {
      "text/html": [
       "3"
      ]
     },
     "metadata": {},
     "output_type": "display_data"
    }
   ],
   "source": [
    "using System.Linq;\n",
    "\n",
    "// checks all nums in array are factors of integer being considered \n",
    "bool areAllFactors(int [] a, int consider)\n",
    "{\n",
    "    foreach (int num in a)\n",
    "    {\n",
    "        if (consider % num != 0)\n",
    "            {\n",
    "                return false;\n",
    "            }\n",
    "    }\n",
    "    \n",
    "    // loop finished without return so all nums are factors\n",
    "    return true;\n",
    "}\n",
    "\n",
    "// checks consider is factor of all nums in array\n",
    "bool factorOfAll(int [] b, int consider)\n",
    "{\n",
    "    foreach (int num in b)\n",
    "    {\n",
    "        if (num % consider != 0)\n",
    "            {\n",
    "                return false;\n",
    "            }\n",
    "    }\n",
    "    \n",
    "    // loop finished without return so consider is a factor of all nums\n",
    "    return true;\n",
    "}\n",
    "\n",
    "// get count of nums between 2 arrays\n",
    "int getTotalX(int[] a, int[] b)\n",
    "{\n",
    "    int between = 0;\n",
    "    int max = Math.Max(a.Max(), b.Max());\n",
    "    \n",
    "    for (int consider = 1; consider < max; consider++)\n",
    "    {\n",
    "        if (areAllFactors(a, consider) && factorOfAll(b, consider))\n",
    "        {\n",
    "            between++;\n",
    "        }\n",
    "    }\n",
    "    \n",
    "    return (between);\n",
    "}\n",
    "\n",
    "int[] a = {2, 4};\n",
    "int[] b = {16, 32, 96};\n",
    "\n",
    "display(getTotalX(a, b));"
   ]
  },
  {
   "cell_type": "code",
   "execution_count": null,
   "metadata": {},
   "outputs": [],
   "source": []
  }
 ],
 "metadata": {
  "kernelspec": {
   "display_name": ".NET (C#)",
   "language": "C#",
   "name": ".net-csharp"
  },
  "language_info": {
   "file_extension": ".cs",
   "mimetype": "text/x-csharp",
   "name": "C#",
   "pygments_lexer": "csharp",
   "version": "8.0"
  }
 },
 "nbformat": 4,
 "nbformat_minor": 4
}
